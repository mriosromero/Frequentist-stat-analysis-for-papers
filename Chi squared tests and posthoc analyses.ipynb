{
 "cells": [
  {
   "cell_type": "markdown",
   "id": "fee9c04d",
   "metadata": {},
   "source": [
    "## Chi squared tests for 2xn tables and posthoc analysis \n",
    "\n",
    "Cisneros_Villanueva et al, 2022."
   ]
  },
  {
   "cell_type": "markdown",
   "id": "bbb2b10e",
   "metadata": {},
   "source": [
    "By: Magdalena Ríos Romero, coauthor."
   ]
  },
  {
   "cell_type": "markdown",
   "id": "98e7303f",
   "metadata": {},
   "source": [
    "The objective of this code is to perform chi squared tests with posthoc analyses for 2Xn tables (tables that contain variables with more than 2 levels). In these cases, we need to perform posthoc and multiple testing correction analysis. Using two cusom functions, we can perform chi square calculations, posthoc analysis and corrections.   "
   ]
  },
  {
   "cell_type": "code",
   "execution_count": 1,
   "id": "3322e5be",
   "metadata": {},
   "outputs": [],
   "source": [
    "import pandas as pd "
   ]
  },
  {
   "cell_type": "code",
   "execution_count": 2,
   "id": "71f491ee",
   "metadata": {},
   "outputs": [],
   "source": [
    "import numpy as np\n"
   ]
  },
  {
   "cell_type": "markdown",
   "id": "0da1a9a7",
   "metadata": {},
   "source": [
    "I will start the analysis with the TCGA cohort."
   ]
  },
  {
   "cell_type": "code",
   "execution_count": 103,
   "id": "a5d96c7b",
   "metadata": {},
   "outputs": [],
   "source": [
    "base_TCGA=pd.read_csv('baseTCGA.csv')"
   ]
  },
  {
   "cell_type": "code",
   "execution_count": 111,
   "id": "a1ad7bb0",
   "metadata": {
    "scrolled": true
   },
   "outputs": [
    {
     "data": {
      "text/html": [
       "<div>\n",
       "<style scoped>\n",
       "    .dataframe tbody tr th:only-of-type {\n",
       "        vertical-align: middle;\n",
       "    }\n",
       "\n",
       "    .dataframe tbody tr th {\n",
       "        vertical-align: top;\n",
       "    }\n",
       "\n",
       "    .dataframe thead th {\n",
       "        text-align: right;\n",
       "    }\n",
       "</style>\n",
       "<table border=\"1\" class=\"dataframe\">\n",
       "  <thead>\n",
       "    <tr style=\"text-align: right;\">\n",
       "      <th></th>\n",
       "      <th>Diagnosis Age</th>\n",
       "      <th>Age</th>\n",
       "      <th>Clinical stage</th>\n",
       "      <th>Clinical Stage</th>\n",
       "      <th>Histopathology type</th>\n",
       "      <th>Histopathology</th>\n",
       "      <th>Histopathology.1</th>\n",
       "      <th>Radiation Therapy</th>\n",
       "      <th>Radiation Therapy.1</th>\n",
       "      <th>Subtype PAM50</th>\n",
       "      <th>PAM50</th>\n",
       "      <th>SOX9-AS1</th>\n",
       "      <th>SOX9-AS1_expression</th>\n",
       "      <th>Unnamed: 13</th>\n",
       "    </tr>\n",
       "  </thead>\n",
       "  <tbody>\n",
       "    <tr>\n",
       "      <th>0</th>\n",
       "      <td>67</td>\n",
       "      <td>2</td>\n",
       "      <td>STAGE IA</td>\n",
       "      <td>1</td>\n",
       "      <td>Breast Invasive Ductal Carcinoma</td>\n",
       "      <td>Infiltrating Ductal Carcinoma</td>\n",
       "      <td>1</td>\n",
       "      <td>No</td>\n",
       "      <td>2</td>\n",
       "      <td>BRCA_Basal</td>\n",
       "      <td>4</td>\n",
       "      <td>7,887</td>\n",
       "      <td>High</td>\n",
       "      <td>1</td>\n",
       "    </tr>\n",
       "    <tr>\n",
       "      <th>1</th>\n",
       "      <td>72</td>\n",
       "      <td>2</td>\n",
       "      <td>STAGE IIA</td>\n",
       "      <td>2</td>\n",
       "      <td>Breast Invasive Ductal Carcinoma</td>\n",
       "      <td>Infiltrating Ductal Carcinoma</td>\n",
       "      <td>1</td>\n",
       "      <td>No</td>\n",
       "      <td>2</td>\n",
       "      <td>BRCA_Basal</td>\n",
       "      <td>4</td>\n",
       "      <td>7,728</td>\n",
       "      <td>High</td>\n",
       "      <td>1</td>\n",
       "    </tr>\n",
       "    <tr>\n",
       "      <th>2</th>\n",
       "      <td>51</td>\n",
       "      <td>2</td>\n",
       "      <td>STAGE IIB</td>\n",
       "      <td>2</td>\n",
       "      <td>Breast Invasive Ductal Carcinoma</td>\n",
       "      <td>Infiltrating Ductal Carcinoma</td>\n",
       "      <td>1</td>\n",
       "      <td>Yes</td>\n",
       "      <td>1</td>\n",
       "      <td>BRCA_Basal</td>\n",
       "      <td>4</td>\n",
       "      <td>7,64</td>\n",
       "      <td>High</td>\n",
       "      <td>1</td>\n",
       "    </tr>\n",
       "    <tr>\n",
       "      <th>3</th>\n",
       "      <td>59</td>\n",
       "      <td>2</td>\n",
       "      <td>STAGE IA</td>\n",
       "      <td>1</td>\n",
       "      <td>Breast Invasive Ductal Carcinoma</td>\n",
       "      <td>Infiltrating Ductal Carcinoma</td>\n",
       "      <td>1</td>\n",
       "      <td>No</td>\n",
       "      <td>2</td>\n",
       "      <td>BRCA_Basal</td>\n",
       "      <td>4</td>\n",
       "      <td>7,62</td>\n",
       "      <td>High</td>\n",
       "      <td>1</td>\n",
       "    </tr>\n",
       "    <tr>\n",
       "      <th>4</th>\n",
       "      <td>47</td>\n",
       "      <td>1</td>\n",
       "      <td>STAGE I</td>\n",
       "      <td>1</td>\n",
       "      <td>Breast Invasive Ductal Carcinoma</td>\n",
       "      <td>Infiltrating Ductal Carcinoma</td>\n",
       "      <td>1</td>\n",
       "      <td>Yes</td>\n",
       "      <td>1</td>\n",
       "      <td>NaN</td>\n",
       "      <td>5</td>\n",
       "      <td>7,433</td>\n",
       "      <td>High</td>\n",
       "      <td>1</td>\n",
       "    </tr>\n",
       "    <tr>\n",
       "      <th>...</th>\n",
       "      <td>...</td>\n",
       "      <td>...</td>\n",
       "      <td>...</td>\n",
       "      <td>...</td>\n",
       "      <td>...</td>\n",
       "      <td>...</td>\n",
       "      <td>...</td>\n",
       "      <td>...</td>\n",
       "      <td>...</td>\n",
       "      <td>...</td>\n",
       "      <td>...</td>\n",
       "      <td>...</td>\n",
       "      <td>...</td>\n",
       "      <td>...</td>\n",
       "    </tr>\n",
       "    <tr>\n",
       "      <th>1061</th>\n",
       "      <td>61</td>\n",
       "      <td>2</td>\n",
       "      <td>STAGE I</td>\n",
       "      <td>1</td>\n",
       "      <td>Breast Invasive Ductal Carcinoma</td>\n",
       "      <td>Infiltrating Ductal Carcinoma</td>\n",
       "      <td>1</td>\n",
       "      <td>Yes</td>\n",
       "      <td>1</td>\n",
       "      <td>BRCA_LumA</td>\n",
       "      <td>1</td>\n",
       "      <td>-9,966</td>\n",
       "      <td>Low</td>\n",
       "      <td>2</td>\n",
       "    </tr>\n",
       "    <tr>\n",
       "      <th>1062</th>\n",
       "      <td>74</td>\n",
       "      <td>2</td>\n",
       "      <td>STAGE IIA</td>\n",
       "      <td>2</td>\n",
       "      <td>Breast Invasive Ductal Carcinoma</td>\n",
       "      <td>Infiltrating Ductal Carcinoma</td>\n",
       "      <td>1</td>\n",
       "      <td>No</td>\n",
       "      <td>2</td>\n",
       "      <td>BRCA_LumA</td>\n",
       "      <td>1</td>\n",
       "      <td>-9,966</td>\n",
       "      <td>Low</td>\n",
       "      <td>2</td>\n",
       "    </tr>\n",
       "    <tr>\n",
       "      <th>1063</th>\n",
       "      <td>75</td>\n",
       "      <td>2</td>\n",
       "      <td>STAGE IIIA</td>\n",
       "      <td>3</td>\n",
       "      <td>Breast Invasive Ductal Carcinoma</td>\n",
       "      <td>Infiltrating Ductal Carcinoma</td>\n",
       "      <td>1</td>\n",
       "      <td>No</td>\n",
       "      <td>2</td>\n",
       "      <td>BRCA_LumA</td>\n",
       "      <td>1</td>\n",
       "      <td>-9,966</td>\n",
       "      <td>Low</td>\n",
       "      <td>2</td>\n",
       "    </tr>\n",
       "    <tr>\n",
       "      <th>1064</th>\n",
       "      <td>76</td>\n",
       "      <td>2</td>\n",
       "      <td>STAGE IIA</td>\n",
       "      <td>2</td>\n",
       "      <td>Breast Invasive Ductal Carcinoma</td>\n",
       "      <td>Infiltrating Ductal Carcinoma</td>\n",
       "      <td>1</td>\n",
       "      <td>No</td>\n",
       "      <td>2</td>\n",
       "      <td>BRCA_LumB</td>\n",
       "      <td>2</td>\n",
       "      <td>-9,966</td>\n",
       "      <td>Low</td>\n",
       "      <td>2</td>\n",
       "    </tr>\n",
       "    <tr>\n",
       "      <th>1065</th>\n",
       "      <td>77</td>\n",
       "      <td>2</td>\n",
       "      <td>STAGE IIB</td>\n",
       "      <td>2</td>\n",
       "      <td>Breast Invasive Ductal Carcinoma</td>\n",
       "      <td>Infiltrating Ductal Carcinoma</td>\n",
       "      <td>1</td>\n",
       "      <td>Yes</td>\n",
       "      <td>1</td>\n",
       "      <td>BRCA_LumB</td>\n",
       "      <td>2</td>\n",
       "      <td>-9,966</td>\n",
       "      <td>Low</td>\n",
       "      <td>2</td>\n",
       "    </tr>\n",
       "  </tbody>\n",
       "</table>\n",
       "<p>1066 rows × 14 columns</p>\n",
       "</div>"
      ],
      "text/plain": [
       "      Diagnosis Age  Age Clinical stage  Clinical Stage  \\\n",
       "0                67    2       STAGE IA               1   \n",
       "1                72    2      STAGE IIA               2   \n",
       "2                51    2      STAGE IIB               2   \n",
       "3                59    2       STAGE IA               1   \n",
       "4                47    1        STAGE I               1   \n",
       "...             ...  ...            ...             ...   \n",
       "1061             61    2        STAGE I               1   \n",
       "1062             74    2      STAGE IIA               2   \n",
       "1063             75    2     STAGE IIIA               3   \n",
       "1064             76    2      STAGE IIA               2   \n",
       "1065             77    2      STAGE IIB               2   \n",
       "\n",
       "                   Histopathology type                 Histopathology  \\\n",
       "0     Breast Invasive Ductal Carcinoma  Infiltrating Ductal Carcinoma   \n",
       "1     Breast Invasive Ductal Carcinoma  Infiltrating Ductal Carcinoma   \n",
       "2     Breast Invasive Ductal Carcinoma  Infiltrating Ductal Carcinoma   \n",
       "3     Breast Invasive Ductal Carcinoma  Infiltrating Ductal Carcinoma   \n",
       "4     Breast Invasive Ductal Carcinoma  Infiltrating Ductal Carcinoma   \n",
       "...                                ...                            ...   \n",
       "1061  Breast Invasive Ductal Carcinoma  Infiltrating Ductal Carcinoma   \n",
       "1062  Breast Invasive Ductal Carcinoma  Infiltrating Ductal Carcinoma   \n",
       "1063  Breast Invasive Ductal Carcinoma  Infiltrating Ductal Carcinoma   \n",
       "1064  Breast Invasive Ductal Carcinoma  Infiltrating Ductal Carcinoma   \n",
       "1065  Breast Invasive Ductal Carcinoma  Infiltrating Ductal Carcinoma   \n",
       "\n",
       "      Histopathology.1 Radiation Therapy  Radiation Therapy.1 Subtype PAM50  \\\n",
       "0                    1                No                    2    BRCA_Basal   \n",
       "1                    1                No                    2    BRCA_Basal   \n",
       "2                    1               Yes                    1    BRCA_Basal   \n",
       "3                    1                No                    2    BRCA_Basal   \n",
       "4                    1               Yes                    1           NaN   \n",
       "...                ...               ...                  ...           ...   \n",
       "1061                 1               Yes                    1     BRCA_LumA   \n",
       "1062                 1                No                    2     BRCA_LumA   \n",
       "1063                 1                No                    2     BRCA_LumA   \n",
       "1064                 1                No                    2     BRCA_LumB   \n",
       "1065                 1               Yes                    1     BRCA_LumB   \n",
       "\n",
       "      PAM50 SOX9-AS1 SOX9-AS1_expression  Unnamed: 13  \n",
       "0         4    7,887                High            1  \n",
       "1         4    7,728                High            1  \n",
       "2         4     7,64                High            1  \n",
       "3         4     7,62                High            1  \n",
       "4         5    7,433                High            1  \n",
       "...     ...      ...                 ...          ...  \n",
       "1061      1   -9,966                 Low            2  \n",
       "1062      1   -9,966                 Low            2  \n",
       "1063      1   -9,966                 Low            2  \n",
       "1064      2   -9,966                 Low            2  \n",
       "1065      2   -9,966                 Low            2  \n",
       "\n",
       "[1066 rows x 14 columns]"
      ]
     },
     "execution_count": 111,
     "metadata": {},
     "output_type": "execute_result"
    }
   ],
   "source": [
    "base_TCGA"
   ]
  },
  {
   "cell_type": "code",
   "execution_count": 7,
   "id": "3d0d2831",
   "metadata": {},
   "outputs": [
    {
     "data": {
      "text/plain": [
       "Index(['Diagnosis Age', 'Age', 'Clinical stage', 'Clinical Stage',\n",
       "       'Histopathology type', 'Histopathology', 'Histopathology.1',\n",
       "       'Radiation Therapy', 'Radiation Therapy.1', 'Subtype PAM50', 'PAM50',\n",
       "       'SOX9-AS1', 'SOX9-AS1_expression', 'Unnamed: 13'],\n",
       "      dtype='object')"
      ]
     },
     "execution_count": 7,
     "metadata": {},
     "output_type": "execute_result"
    }
   ],
   "source": [
    "base_TCGA.columns"
   ]
  },
  {
   "cell_type": "code",
   "execution_count": 112,
   "id": "3d031a68",
   "metadata": {},
   "outputs": [
    {
     "data": {
      "text/plain": [
       "0"
      ]
     },
     "execution_count": 112,
     "metadata": {},
     "output_type": "execute_result"
    }
   ],
   "source": [
    "base_TCGA['Age'].isnull().sum()"
   ]
  },
  {
   "cell_type": "code",
   "execution_count": 105,
   "id": "ddcc04b5",
   "metadata": {},
   "outputs": [
    {
     "data": {
      "text/plain": [
       "0"
      ]
     },
     "execution_count": 105,
     "metadata": {},
     "output_type": "execute_result"
    }
   ],
   "source": [
    "base_TCGA['Histopathology'].isnull().sum()"
   ]
  },
  {
   "cell_type": "code",
   "execution_count": 106,
   "id": "642b7e48",
   "metadata": {},
   "outputs": [
    {
     "data": {
      "text/plain": [
       "123"
      ]
     },
     "execution_count": 106,
     "metadata": {},
     "output_type": "execute_result"
    }
   ],
   "source": [
    "base_TCGA['Subtype PAM50'].isnull().sum()"
   ]
  },
  {
   "cell_type": "code",
   "execution_count": 107,
   "id": "e69412f8",
   "metadata": {},
   "outputs": [
    {
     "data": {
      "text/plain": [
       "100"
      ]
     },
     "execution_count": 107,
     "metadata": {},
     "output_type": "execute_result"
    }
   ],
   "source": [
    "base_TCGA['Radiation Therapy'].isnull().sum()"
   ]
  },
  {
   "cell_type": "code",
   "execution_count": 108,
   "id": "8fa3ba6e",
   "metadata": {},
   "outputs": [
    {
     "data": {
      "text/plain": [
       "0"
      ]
     },
     "execution_count": 108,
     "metadata": {},
     "output_type": "execute_result"
    }
   ],
   "source": [
    "base_TCGA['SOX9-AS1_expression'].isnull().sum()"
   ]
  },
  {
   "cell_type": "markdown",
   "id": "926b53ce",
   "metadata": {},
   "source": [
    "## Counting frequencies\n",
    "\n",
    "I will count frequencies for each category. These frequencies will include NANs, as we are reporting NANs as a separate category. Of note, NANs will be ignored in the downstream chi square analysis. "
   ]
  },
  {
   "cell_type": "code",
   "execution_count": 110,
   "id": "f49795a3",
   "metadata": {},
   "outputs": [
    {
     "data": {
      "text/html": [
       "<div>\n",
       "<style scoped>\n",
       "    .dataframe tbody tr th:only-of-type {\n",
       "        vertical-align: middle;\n",
       "    }\n",
       "\n",
       "    .dataframe tbody tr th {\n",
       "        vertical-align: top;\n",
       "    }\n",
       "\n",
       "    .dataframe thead th {\n",
       "        text-align: right;\n",
       "    }\n",
       "</style>\n",
       "<table border=\"1\" class=\"dataframe\">\n",
       "  <thead>\n",
       "    <tr style=\"text-align: right;\">\n",
       "      <th>SOX9-AS1_expression</th>\n",
       "      <th>High</th>\n",
       "      <th>Low</th>\n",
       "    </tr>\n",
       "    <tr>\n",
       "      <th>Age</th>\n",
       "      <th></th>\n",
       "      <th></th>\n",
       "    </tr>\n",
       "  </thead>\n",
       "  <tbody>\n",
       "    <tr>\n",
       "      <th>1</th>\n",
       "      <td>161</td>\n",
       "      <td>128</td>\n",
       "    </tr>\n",
       "    <tr>\n",
       "      <th>2</th>\n",
       "      <td>372</td>\n",
       "      <td>405</td>\n",
       "    </tr>\n",
       "  </tbody>\n",
       "</table>\n",
       "</div>"
      ],
      "text/plain": [
       "SOX9-AS1_expression  High  Low\n",
       "Age                           \n",
       "1                     161  128\n",
       "2                     372  405"
      ]
     },
     "execution_count": 110,
     "metadata": {},
     "output_type": "execute_result"
    }
   ],
   "source": [
    "#Without NANs \n",
    "pd.crosstab(base_TCGA['Age'],base_TCGA['SOX9-AS1_expression'])\n"
   ]
  },
  {
   "cell_type": "code",
   "execution_count": 113,
   "id": "603e5572",
   "metadata": {},
   "outputs": [
    {
     "data": {
      "text/html": [
       "<div>\n",
       "<style scoped>\n",
       "    .dataframe tbody tr th:only-of-type {\n",
       "        vertical-align: middle;\n",
       "    }\n",
       "\n",
       "    .dataframe tbody tr th {\n",
       "        vertical-align: top;\n",
       "    }\n",
       "\n",
       "    .dataframe thead th {\n",
       "        text-align: right;\n",
       "    }\n",
       "</style>\n",
       "<table border=\"1\" class=\"dataframe\">\n",
       "  <thead>\n",
       "    <tr style=\"text-align: right;\">\n",
       "      <th>SOX9-AS1_expression</th>\n",
       "      <th>High</th>\n",
       "      <th>Low</th>\n",
       "    </tr>\n",
       "    <tr>\n",
       "      <th>Histopathology</th>\n",
       "      <th></th>\n",
       "      <th></th>\n",
       "    </tr>\n",
       "  </thead>\n",
       "  <tbody>\n",
       "    <tr>\n",
       "      <th>Infiltrating Ductal Carcinoma</th>\n",
       "      <td>372</td>\n",
       "      <td>387</td>\n",
       "    </tr>\n",
       "    <tr>\n",
       "      <th>Infiltrating Lobular Carcinoma</th>\n",
       "      <td>116</td>\n",
       "      <td>85</td>\n",
       "    </tr>\n",
       "    <tr>\n",
       "      <th>Mixed Histology (NOS)</th>\n",
       "      <td>12</td>\n",
       "      <td>17</td>\n",
       "    </tr>\n",
       "    <tr>\n",
       "      <th>Other</th>\n",
       "      <td>33</td>\n",
       "      <td>44</td>\n",
       "    </tr>\n",
       "  </tbody>\n",
       "</table>\n",
       "</div>"
      ],
      "text/plain": [
       "SOX9-AS1_expression             High  Low\n",
       "Histopathology                           \n",
       "Infiltrating Ductal Carcinoma    372  387\n",
       "Infiltrating Lobular Carcinoma   116   85\n",
       "Mixed Histology (NOS)             12   17\n",
       "Other                             33   44"
      ]
     },
     "execution_count": 113,
     "metadata": {},
     "output_type": "execute_result"
    }
   ],
   "source": [
    "#Without NANs \n",
    "pd.crosstab(base_TCGA['Histopathology'],base_TCGA['SOX9-AS1_expression'])"
   ]
  },
  {
   "cell_type": "code",
   "execution_count": 98,
   "id": "04d7688a",
   "metadata": {},
   "outputs": [
    {
     "data": {
      "text/html": [
       "<div>\n",
       "<style scoped>\n",
       "    .dataframe tbody tr th:only-of-type {\n",
       "        vertical-align: middle;\n",
       "    }\n",
       "\n",
       "    .dataframe tbody tr th {\n",
       "        vertical-align: top;\n",
       "    }\n",
       "\n",
       "    .dataframe thead th {\n",
       "        text-align: right;\n",
       "    }\n",
       "</style>\n",
       "<table border=\"1\" class=\"dataframe\">\n",
       "  <thead>\n",
       "    <tr style=\"text-align: right;\">\n",
       "      <th>SOX9-AS1_expression</th>\n",
       "      <th>High</th>\n",
       "      <th>Low</th>\n",
       "    </tr>\n",
       "    <tr>\n",
       "      <th>Radiation Therapy</th>\n",
       "      <th></th>\n",
       "      <th></th>\n",
       "    </tr>\n",
       "  </thead>\n",
       "  <tbody>\n",
       "    <tr>\n",
       "      <th>No</th>\n",
       "      <td>207</td>\n",
       "      <td>217</td>\n",
       "    </tr>\n",
       "    <tr>\n",
       "      <th>Yes</th>\n",
       "      <td>270</td>\n",
       "      <td>272</td>\n",
       "    </tr>\n",
       "    <tr>\n",
       "      <th>missing</th>\n",
       "      <td>56</td>\n",
       "      <td>44</td>\n",
       "    </tr>\n",
       "  </tbody>\n",
       "</table>\n",
       "</div>"
      ],
      "text/plain": [
       "SOX9-AS1_expression  High  Low\n",
       "Radiation Therapy             \n",
       "No                    207  217\n",
       "Yes                   270  272\n",
       "missing                56   44"
      ]
     },
     "execution_count": 98,
     "metadata": {},
     "output_type": "execute_result"
    }
   ],
   "source": [
    "#With NANs: passing the fillna function\n",
    "pd.crosstab(base_TCGA['Radiation Therapy'].fillna('missing'),base_TCGA['SOX9-AS1_expression'])"
   ]
  },
  {
   "cell_type": "code",
   "execution_count": 115,
   "id": "7a05665c",
   "metadata": {},
   "outputs": [
    {
     "data": {
      "text/html": [
       "<div>\n",
       "<style scoped>\n",
       "    .dataframe tbody tr th:only-of-type {\n",
       "        vertical-align: middle;\n",
       "    }\n",
       "\n",
       "    .dataframe tbody tr th {\n",
       "        vertical-align: top;\n",
       "    }\n",
       "\n",
       "    .dataframe thead th {\n",
       "        text-align: right;\n",
       "    }\n",
       "</style>\n",
       "<table border=\"1\" class=\"dataframe\">\n",
       "  <thead>\n",
       "    <tr style=\"text-align: right;\">\n",
       "      <th>SOX9-AS1_expression</th>\n",
       "      <th>High</th>\n",
       "      <th>Low</th>\n",
       "    </tr>\n",
       "    <tr>\n",
       "      <th>Subtype PAM50</th>\n",
       "      <th></th>\n",
       "      <th></th>\n",
       "    </tr>\n",
       "  </thead>\n",
       "  <tbody>\n",
       "    <tr>\n",
       "      <th>BRCA_Basal</th>\n",
       "      <td>163</td>\n",
       "      <td>8</td>\n",
       "    </tr>\n",
       "    <tr>\n",
       "      <th>BRCA_Her2</th>\n",
       "      <td>26</td>\n",
       "      <td>51</td>\n",
       "    </tr>\n",
       "    <tr>\n",
       "      <th>BRCA_LumA</th>\n",
       "      <td>233</td>\n",
       "      <td>265</td>\n",
       "    </tr>\n",
       "    <tr>\n",
       "      <th>BRCA_LumB</th>\n",
       "      <td>35</td>\n",
       "      <td>162</td>\n",
       "    </tr>\n",
       "    <tr>\n",
       "      <th>missing</th>\n",
       "      <td>76</td>\n",
       "      <td>47</td>\n",
       "    </tr>\n",
       "  </tbody>\n",
       "</table>\n",
       "</div>"
      ],
      "text/plain": [
       "SOX9-AS1_expression  High  Low\n",
       "Subtype PAM50                 \n",
       "BRCA_Basal            163    8\n",
       "BRCA_Her2              26   51\n",
       "BRCA_LumA             233  265\n",
       "BRCA_LumB              35  162\n",
       "missing                76   47"
      ]
     },
     "execution_count": 115,
     "metadata": {},
     "output_type": "execute_result"
    }
   ],
   "source": [
    "#With NANs \n",
    "pd.crosstab(base_TCGA['Subtype PAM50'].fillna('missing'),base_TCGA['SOX9-AS1_expression'])"
   ]
  },
  {
   "cell_type": "code",
   "execution_count": 114,
   "id": "e39032c4",
   "metadata": {},
   "outputs": [
    {
     "data": {
      "text/html": [
       "<div>\n",
       "<style scoped>\n",
       "    .dataframe tbody tr th:only-of-type {\n",
       "        vertical-align: middle;\n",
       "    }\n",
       "\n",
       "    .dataframe tbody tr th {\n",
       "        vertical-align: top;\n",
       "    }\n",
       "\n",
       "    .dataframe thead th {\n",
       "        text-align: right;\n",
       "    }\n",
       "</style>\n",
       "<table border=\"1\" class=\"dataframe\">\n",
       "  <thead>\n",
       "    <tr style=\"text-align: right;\">\n",
       "      <th>SOX9-AS1_expression</th>\n",
       "      <th>High</th>\n",
       "      <th>Low</th>\n",
       "    </tr>\n",
       "    <tr>\n",
       "      <th>Clinical Stage</th>\n",
       "      <th></th>\n",
       "      <th></th>\n",
       "    </tr>\n",
       "  </thead>\n",
       "  <tbody>\n",
       "    <tr>\n",
       "      <th>1</th>\n",
       "      <td>91</td>\n",
       "      <td>89</td>\n",
       "    </tr>\n",
       "    <tr>\n",
       "      <th>2</th>\n",
       "      <td>313</td>\n",
       "      <td>291</td>\n",
       "    </tr>\n",
       "    <tr>\n",
       "      <th>3</th>\n",
       "      <td>112</td>\n",
       "      <td>133</td>\n",
       "    </tr>\n",
       "    <tr>\n",
       "      <th>4</th>\n",
       "      <td>9</td>\n",
       "      <td>9</td>\n",
       "    </tr>\n",
       "    <tr>\n",
       "      <th>5</th>\n",
       "      <td>8</td>\n",
       "      <td>11</td>\n",
       "    </tr>\n",
       "  </tbody>\n",
       "</table>\n",
       "</div>"
      ],
      "text/plain": [
       "SOX9-AS1_expression  High  Low\n",
       "Clinical Stage                \n",
       "1                      91   89\n",
       "2                     313  291\n",
       "3                     112  133\n",
       "4                       9    9\n",
       "5                       8   11"
      ]
     },
     "execution_count": 114,
     "metadata": {},
     "output_type": "execute_result"
    }
   ],
   "source": [
    "#With NANs encoded as category number 5\n",
    "pd.crosstab(base_TCGA['Clinical Stage'],base_TCGA['SOX9-AS1_expression'])\n"
   ]
  },
  {
   "cell_type": "markdown",
   "id": "58b994d7",
   "metadata": {},
   "source": [
    "Making crosstabs with the variables of interest in order to feed the chi squared test with posthoc function below.\n",
    "Of note, the crosstab function in pandas does not include NANs as a category in its default parameters. It simply ignores NANs when constructing the crosstab. Taking advantage of this, I will skip the drop NANs step. "
   ]
  },
  {
   "cell_type": "code",
   "execution_count": 142,
   "id": "23c0545b",
   "metadata": {},
   "outputs": [
    {
     "data": {
      "text/html": [
       "<div>\n",
       "<style scoped>\n",
       "    .dataframe tbody tr th:only-of-type {\n",
       "        vertical-align: middle;\n",
       "    }\n",
       "\n",
       "    .dataframe tbody tr th {\n",
       "        vertical-align: top;\n",
       "    }\n",
       "\n",
       "    .dataframe thead th {\n",
       "        text-align: right;\n",
       "    }\n",
       "</style>\n",
       "<table border=\"1\" class=\"dataframe\">\n",
       "  <thead>\n",
       "    <tr style=\"text-align: right;\">\n",
       "      <th>SOX9-AS1_expression</th>\n",
       "      <th>High</th>\n",
       "      <th>Low</th>\n",
       "    </tr>\n",
       "    <tr>\n",
       "      <th>Age</th>\n",
       "      <th></th>\n",
       "      <th></th>\n",
       "    </tr>\n",
       "  </thead>\n",
       "  <tbody>\n",
       "    <tr>\n",
       "      <th>1</th>\n",
       "      <td>161</td>\n",
       "      <td>128</td>\n",
       "    </tr>\n",
       "    <tr>\n",
       "      <th>2</th>\n",
       "      <td>372</td>\n",
       "      <td>405</td>\n",
       "    </tr>\n",
       "  </tbody>\n",
       "</table>\n",
       "</div>"
      ],
      "text/plain": [
       "SOX9-AS1_expression  High  Low\n",
       "Age                           \n",
       "1                     161  128\n",
       "2                     372  405"
      ]
     },
     "execution_count": 142,
     "metadata": {},
     "output_type": "execute_result"
    }
   ],
   "source": [
    "ct0=pd.crosstab(base_TCGA['Age'],base_TCGA['SOX9-AS1_expression'])\n",
    "ct0"
   ]
  },
  {
   "cell_type": "code",
   "execution_count": 131,
   "id": "d0e9ea89",
   "metadata": {},
   "outputs": [
    {
     "data": {
      "text/html": [
       "<div>\n",
       "<style scoped>\n",
       "    .dataframe tbody tr th:only-of-type {\n",
       "        vertical-align: middle;\n",
       "    }\n",
       "\n",
       "    .dataframe tbody tr th {\n",
       "        vertical-align: top;\n",
       "    }\n",
       "\n",
       "    .dataframe thead th {\n",
       "        text-align: right;\n",
       "    }\n",
       "</style>\n",
       "<table border=\"1\" class=\"dataframe\">\n",
       "  <thead>\n",
       "    <tr style=\"text-align: right;\">\n",
       "      <th>SOX9-AS1_expression</th>\n",
       "      <th>High</th>\n",
       "      <th>Low</th>\n",
       "    </tr>\n",
       "    <tr>\n",
       "      <th>Histopathology</th>\n",
       "      <th></th>\n",
       "      <th></th>\n",
       "    </tr>\n",
       "  </thead>\n",
       "  <tbody>\n",
       "    <tr>\n",
       "      <th>Infiltrating Ductal Carcinoma</th>\n",
       "      <td>372</td>\n",
       "      <td>387</td>\n",
       "    </tr>\n",
       "    <tr>\n",
       "      <th>Infiltrating Lobular Carcinoma</th>\n",
       "      <td>116</td>\n",
       "      <td>85</td>\n",
       "    </tr>\n",
       "    <tr>\n",
       "      <th>Mixed Histology (NOS)</th>\n",
       "      <td>12</td>\n",
       "      <td>17</td>\n",
       "    </tr>\n",
       "    <tr>\n",
       "      <th>Other</th>\n",
       "      <td>33</td>\n",
       "      <td>44</td>\n",
       "    </tr>\n",
       "  </tbody>\n",
       "</table>\n",
       "</div>"
      ],
      "text/plain": [
       "SOX9-AS1_expression             High  Low\n",
       "Histopathology                           \n",
       "Infiltrating Ductal Carcinoma    372  387\n",
       "Infiltrating Lobular Carcinoma   116   85\n",
       "Mixed Histology (NOS)             12   17\n",
       "Other                             33   44"
      ]
     },
     "execution_count": 131,
     "metadata": {},
     "output_type": "execute_result"
    }
   ],
   "source": [
    "ct1=pd.crosstab(base_TCGA['Histopathology'],base_TCGA['SOX9-AS1_expression'])\n",
    "ct1"
   ]
  },
  {
   "cell_type": "code",
   "execution_count": 132,
   "id": "3049518a",
   "metadata": {},
   "outputs": [
    {
     "data": {
      "text/html": [
       "<div>\n",
       "<style scoped>\n",
       "    .dataframe tbody tr th:only-of-type {\n",
       "        vertical-align: middle;\n",
       "    }\n",
       "\n",
       "    .dataframe tbody tr th {\n",
       "        vertical-align: top;\n",
       "    }\n",
       "\n",
       "    .dataframe thead th {\n",
       "        text-align: right;\n",
       "    }\n",
       "</style>\n",
       "<table border=\"1\" class=\"dataframe\">\n",
       "  <thead>\n",
       "    <tr style=\"text-align: right;\">\n",
       "      <th>SOX9-AS1_expression</th>\n",
       "      <th>High</th>\n",
       "      <th>Low</th>\n",
       "    </tr>\n",
       "    <tr>\n",
       "      <th>Subtype PAM50</th>\n",
       "      <th></th>\n",
       "      <th></th>\n",
       "    </tr>\n",
       "  </thead>\n",
       "  <tbody>\n",
       "    <tr>\n",
       "      <th>BRCA_Basal</th>\n",
       "      <td>163</td>\n",
       "      <td>8</td>\n",
       "    </tr>\n",
       "    <tr>\n",
       "      <th>BRCA_Her2</th>\n",
       "      <td>26</td>\n",
       "      <td>51</td>\n",
       "    </tr>\n",
       "    <tr>\n",
       "      <th>BRCA_LumA</th>\n",
       "      <td>233</td>\n",
       "      <td>265</td>\n",
       "    </tr>\n",
       "    <tr>\n",
       "      <th>BRCA_LumB</th>\n",
       "      <td>35</td>\n",
       "      <td>162</td>\n",
       "    </tr>\n",
       "  </tbody>\n",
       "</table>\n",
       "</div>"
      ],
      "text/plain": [
       "SOX9-AS1_expression  High  Low\n",
       "Subtype PAM50                 \n",
       "BRCA_Basal            163    8\n",
       "BRCA_Her2              26   51\n",
       "BRCA_LumA             233  265\n",
       "BRCA_LumB              35  162"
      ]
     },
     "execution_count": 132,
     "metadata": {},
     "output_type": "execute_result"
    }
   ],
   "source": [
    "ct2=pd.crosstab(base_TCGA['Subtype PAM50'],base_TCGA['SOX9-AS1_expression'])\n",
    "ct2"
   ]
  },
  {
   "cell_type": "code",
   "execution_count": 133,
   "id": "d42fcf1e",
   "metadata": {},
   "outputs": [
    {
     "data": {
      "text/html": [
       "<div>\n",
       "<style scoped>\n",
       "    .dataframe tbody tr th:only-of-type {\n",
       "        vertical-align: middle;\n",
       "    }\n",
       "\n",
       "    .dataframe tbody tr th {\n",
       "        vertical-align: top;\n",
       "    }\n",
       "\n",
       "    .dataframe thead th {\n",
       "        text-align: right;\n",
       "    }\n",
       "</style>\n",
       "<table border=\"1\" class=\"dataframe\">\n",
       "  <thead>\n",
       "    <tr style=\"text-align: right;\">\n",
       "      <th>SOX9-AS1_expression</th>\n",
       "      <th>High</th>\n",
       "      <th>Low</th>\n",
       "    </tr>\n",
       "    <tr>\n",
       "      <th>Radiation Therapy</th>\n",
       "      <th></th>\n",
       "      <th></th>\n",
       "    </tr>\n",
       "  </thead>\n",
       "  <tbody>\n",
       "    <tr>\n",
       "      <th>No</th>\n",
       "      <td>207</td>\n",
       "      <td>217</td>\n",
       "    </tr>\n",
       "    <tr>\n",
       "      <th>Yes</th>\n",
       "      <td>270</td>\n",
       "      <td>272</td>\n",
       "    </tr>\n",
       "  </tbody>\n",
       "</table>\n",
       "</div>"
      ],
      "text/plain": [
       "SOX9-AS1_expression  High  Low\n",
       "Radiation Therapy             \n",
       "No                    207  217\n",
       "Yes                   270  272"
      ]
     },
     "execution_count": 133,
     "metadata": {},
     "output_type": "execute_result"
    }
   ],
   "source": [
    "ct3=pd.crosstab(base_TCGA['Radiation Therapy'],base_TCGA['SOX9-AS1_expression'])\n",
    "ct3"
   ]
  },
  {
   "cell_type": "code",
   "execution_count": 121,
   "id": "0671b9ae",
   "metadata": {},
   "outputs": [],
   "source": [
    "#Importing relevant libraries to perform calculations\n",
    "from scipy.stats import chi2_contingency\n",
    "from itertools import combinations\n",
    "from statsmodels.sandbox.stats.multicomp import multipletests"
   ]
  },
  {
   "cell_type": "markdown",
   "id": "bbc71647",
   "metadata": {},
   "source": [
    "The author of the below custom functions is Moran Neuhof, and the wrapper (automated) code is available here: https://github.com/neuhofmo/chisq_test_wrapper."
   ]
  },
  {
   "cell_type": "code",
   "execution_count": 122,
   "id": "c1c949d1",
   "metadata": {},
   "outputs": [],
   "source": [
    "#First function\n",
    "def get_asterisks_for_pval(p_val):\n",
    "    \"\"\"Receives the p-value and returns asterisks string.\"\"\"\n",
    "    if p_val > 0.05:\n",
    "        p_text = \"ns\"  # above threshold => not significant\n",
    "    elif p_val < 1e-4:  \n",
    "        p_text = '****'\n",
    "    elif p_val < 1e-3:\n",
    "        p_text = '***'\n",
    "    elif p_val < 1e-2:\n",
    "        p_text = '**'\n",
    "    else:\n",
    "        p_text = '*'\n",
    "    \n",
    "    return p_text"
   ]
  },
  {
   "cell_type": "code",
   "execution_count": 123,
   "id": "92d4e9db",
   "metadata": {},
   "outputs": [],
   "source": [
    "#Second function\n",
    "def chisq_and_posthoc_corrected(df):\n",
    "    \"\"\"Receives a crosstab dataframe and performs chi2 test and then post hoc.\n",
    "    Prints the p-values and corrected p-values (after Bonferroni correction)\n",
    "    Of note, you can change the correction method. The original code runs with FDR correction.\"\"\"\n",
    "   \n",
    "# start by running chi2 test on the matrix\n",
    "    chi2, p, dof, ex = chi2_contingency(df, correction=True)\n",
    "    print(f\"Chi2 result of the contingency table: {chi2}, p-value: {p}\")\n",
    "    \n",
    "    # post-hoc\n",
    "    all_combinations = list(combinations(df.index, 2))  # gathering all combinations for post-hoc chi2\n",
    "    p_vals = []\n",
    "    print(\"Significance results:\")\n",
    "    for comb in all_combinations:\n",
    "        new_df = df[(df.index == comb[0]) | (df.index == comb[1])]\n",
    "        chi2, p, dof, ex = chi2_contingency(new_df, correction=True)\n",
    "        p_vals.append(p)\n",
    "        # print(f\"For {comb}: {p}\")  # uncorrected\n",
    "\n",
    "    # checking significance\n",
    "    # correction for multiple testing\n",
    "    reject_list, corrected_p_vals = multipletests(p_vals, method='bonferroni')[:2] #you can use the method of preference. \n",
    "    for p_val, corr_p_val, reject, comb in zip(p_vals, corrected_p_vals, reject_list, all_combinations):\n",
    "        print(f\"{comb}: p_value: {p_val:5f}; corrected: {corr_p_val:5f} ({get_asterisks_for_pval(p_val)}) reject: {reject}\")"
   ]
  },
  {
   "cell_type": "code",
   "execution_count": 143,
   "id": "59d9587e",
   "metadata": {},
   "outputs": [
    {
     "name": "stdout",
     "output_type": "stream",
     "text": [
      "Chi2 result of the contingency table: 4.861141913045027, p-value: 0.027468149998195853\n",
      "Significance results:\n",
      "(1, 2): p_value: 0.027468; corrected: 0.027468 (*) reject: True\n"
     ]
    }
   ],
   "source": [
    "#Age range versus SOX9-AS1 expression\n",
    "chisq_and_posthoc_corrected(ct0)"
   ]
  },
  {
   "cell_type": "code",
   "execution_count": 134,
   "id": "8ab4100e",
   "metadata": {},
   "outputs": [
    {
     "name": "stdout",
     "output_type": "stream",
     "text": [
      "Chi2 result of the contingency table: 7.511034752056032, p-value: 0.057275598857151014\n",
      "Significance results:\n",
      "('Infiltrating Ductal Carcinoma', 'Infiltrating Lobular Carcinoma'): p_value: 0.034486; corrected: 0.206919 (*) reject: False\n",
      "('Infiltrating Ductal Carcinoma', 'Mixed Histology (NOS)'): p_value: 0.536726; corrected: 1.000000 (ns) reject: False\n",
      "('Infiltrating Ductal Carcinoma', 'Other'): p_value: 0.362801; corrected: 1.000000 (ns) reject: False\n",
      "('Infiltrating Lobular Carcinoma', 'Mixed Histology (NOS)'): p_value: 0.145647; corrected: 0.873880 (ns) reject: False\n",
      "('Infiltrating Lobular Carcinoma', 'Other'): p_value: 0.036792; corrected: 0.220750 (*) reject: False\n",
      "('Mixed Histology (NOS)', 'Other'): p_value: 1.000000; corrected: 1.000000 (ns) reject: False\n"
     ]
    }
   ],
   "source": [
    "#Histological type versus SOX9-AS1 expression\n",
    "chisq_and_posthoc_corrected(ct1)"
   ]
  },
  {
   "cell_type": "code",
   "execution_count": 135,
   "id": "3ea155fb",
   "metadata": {},
   "outputs": [
    {
     "name": "stdout",
     "output_type": "stream",
     "text": [
      "Chi2 result of the contingency table: 231.87073577613586, p-value: 5.4492098664699905e-50\n",
      "Significance results:\n",
      "('BRCA_Basal', 'BRCA_Her2'): p_value: 0.000000; corrected: 0.000000 (****) reject: True\n",
      "('BRCA_Basal', 'BRCA_LumA'): p_value: 0.000000; corrected: 0.000000 (****) reject: True\n",
      "('BRCA_Basal', 'BRCA_LumB'): p_value: 0.000000; corrected: 0.000000 (****) reject: True\n",
      "('BRCA_Her2', 'BRCA_LumA'): p_value: 0.043996; corrected: 0.263979 (*) reject: False\n",
      "('BRCA_Her2', 'BRCA_LumB'): p_value: 0.006932; corrected: 0.041593 (**) reject: True\n",
      "('BRCA_LumA', 'BRCA_LumB'): p_value: 0.000000; corrected: 0.000000 (****) reject: True\n"
     ]
    }
   ],
   "source": [
    "#PAM50 subtype versus SOX9-AS1 expression\n",
    "chisq_and_posthoc_corrected(ct2)"
   ]
  },
  {
   "cell_type": "code",
   "execution_count": 136,
   "id": "434625ef",
   "metadata": {},
   "outputs": [
    {
     "name": "stdout",
     "output_type": "stream",
     "text": [
      "Chi2 result of the contingency table: 0.058583619252556535, p-value: 0.8087487565771619\n",
      "Significance results:\n",
      "('No', 'Yes'): p_value: 0.808749; corrected: 0.808749 (ns) reject: False\n"
     ]
    }
   ],
   "source": [
    "#Radiation therapy versus SOX9-AS1 expression\n",
    "chisq_and_posthoc_corrected(ct3)"
   ]
  },
  {
   "cell_type": "markdown",
   "id": "afd2025f",
   "metadata": {},
   "source": [
    "My colleagues had already dummy coded the clinical stage variable, setting NANs into 5. I will filter these values and save them in another dataframe in order to analyze them."
   ]
  },
  {
   "cell_type": "code",
   "execution_count": 144,
   "id": "9b306e45",
   "metadata": {},
   "outputs": [],
   "source": [
    "base_TCGA2=base_TCGA[base_TCGA['Clinical Stage']<5.0]"
   ]
  },
  {
   "cell_type": "code",
   "execution_count": 145,
   "id": "abc9cb74",
   "metadata": {},
   "outputs": [
    {
     "data": {
      "text/plain": [
       "2    604\n",
       "3    245\n",
       "1    180\n",
       "4     18\n",
       "Name: Clinical Stage, dtype: int64"
      ]
     },
     "execution_count": 145,
     "metadata": {},
     "output_type": "execute_result"
    }
   ],
   "source": [
    "#1 to 4 categories, without the 5th one\n",
    "base_TCGA2['Clinical Stage'].value_counts()"
   ]
  },
  {
   "cell_type": "code",
   "execution_count": 146,
   "id": "b8dd8587",
   "metadata": {},
   "outputs": [
    {
     "data": {
      "text/html": [
       "<div>\n",
       "<style scoped>\n",
       "    .dataframe tbody tr th:only-of-type {\n",
       "        vertical-align: middle;\n",
       "    }\n",
       "\n",
       "    .dataframe tbody tr th {\n",
       "        vertical-align: top;\n",
       "    }\n",
       "\n",
       "    .dataframe thead th {\n",
       "        text-align: right;\n",
       "    }\n",
       "</style>\n",
       "<table border=\"1\" class=\"dataframe\">\n",
       "  <thead>\n",
       "    <tr style=\"text-align: right;\">\n",
       "      <th>SOX9-AS1_expression</th>\n",
       "      <th>High</th>\n",
       "      <th>Low</th>\n",
       "    </tr>\n",
       "    <tr>\n",
       "      <th>Clinical Stage</th>\n",
       "      <th></th>\n",
       "      <th></th>\n",
       "    </tr>\n",
       "  </thead>\n",
       "  <tbody>\n",
       "    <tr>\n",
       "      <th>1</th>\n",
       "      <td>91</td>\n",
       "      <td>89</td>\n",
       "    </tr>\n",
       "    <tr>\n",
       "      <th>2</th>\n",
       "      <td>313</td>\n",
       "      <td>291</td>\n",
       "    </tr>\n",
       "    <tr>\n",
       "      <th>3</th>\n",
       "      <td>112</td>\n",
       "      <td>133</td>\n",
       "    </tr>\n",
       "    <tr>\n",
       "      <th>4</th>\n",
       "      <td>9</td>\n",
       "      <td>9</td>\n",
       "    </tr>\n",
       "  </tbody>\n",
       "</table>\n",
       "</div>"
      ],
      "text/plain": [
       "SOX9-AS1_expression  High  Low\n",
       "Clinical Stage                \n",
       "1                      91   89\n",
       "2                     313  291\n",
       "3                     112  133\n",
       "4                       9    9"
      ]
     },
     "execution_count": 146,
     "metadata": {},
     "output_type": "execute_result"
    }
   ],
   "source": [
    "ct4=pd.crosstab(base_TCGA2['Clinical Stage'],base_TCGA2['SOX9-AS1_expression'])\n",
    "ct4"
   ]
  },
  {
   "cell_type": "code",
   "execution_count": 148,
   "id": "65c0bdf2",
   "metadata": {},
   "outputs": [
    {
     "name": "stdout",
     "output_type": "stream",
     "text": [
      "Chi2 result of the contingency table: 2.614972206212673, p-value: 0.45487076973878204\n",
      "Significance results:\n",
      "(1, 2): p_value: 0.831122; corrected: 1.000000 (ns) reject: False\n",
      "(1, 3): p_value: 0.373986; corrected: 1.000000 (ns) reject: False\n",
      "(1, 4): p_value: 1.000000; corrected: 1.000000 (ns) reject: False\n",
      "(2, 3): p_value: 0.124354; corrected: 0.746122 (ns) reject: False\n",
      "(2, 4): p_value: 1.000000; corrected: 1.000000 (ns) reject: False\n",
      "(3, 4): p_value: 0.914690; corrected: 1.000000 (ns) reject: False\n"
     ]
    }
   ],
   "source": [
    "#clinical stage versus SOX9-AS1 expression\n",
    "chisq_and_posthoc_corrected(ct4)"
   ]
  },
  {
   "cell_type": "markdown",
   "id": "79608969",
   "metadata": {},
   "source": [
    "I will now perform the analysis using the METABRIC cohort."
   ]
  },
  {
   "cell_type": "code",
   "execution_count": 71,
   "id": "bf918689",
   "metadata": {},
   "outputs": [],
   "source": [
    "metabric=pd.read_csv('METABRIC.csv')"
   ]
  },
  {
   "cell_type": "code",
   "execution_count": 160,
   "id": "cbe50d1d",
   "metadata": {},
   "outputs": [
    {
     "data": {
      "text/html": [
       "<div>\n",
       "<style scoped>\n",
       "    .dataframe tbody tr th:only-of-type {\n",
       "        vertical-align: middle;\n",
       "    }\n",
       "\n",
       "    .dataframe tbody tr th {\n",
       "        vertical-align: top;\n",
       "    }\n",
       "\n",
       "    .dataframe thead th {\n",
       "        text-align: right;\n",
       "    }\n",
       "</style>\n",
       "<table border=\"1\" class=\"dataframe\">\n",
       "  <thead>\n",
       "    <tr style=\"text-align: right;\">\n",
       "      <th></th>\n",
       "      <th>Age at Diagnosis</th>\n",
       "      <th>Categ</th>\n",
       "      <th>Cancer Type Detailed</th>\n",
       "      <th>Categ.1</th>\n",
       "      <th>Chemotherapy</th>\n",
       "      <th>Categ.2</th>\n",
       "      <th>ER status measured by IHC</th>\n",
       "      <th>Unnamed: 7</th>\n",
       "      <th>ER Status</th>\n",
       "      <th>Categ.3</th>\n",
       "      <th>...</th>\n",
       "      <th>Tumor Stage</th>\n",
       "      <th>Categ.8</th>\n",
       "      <th>SOX9-AS1: mRNA expression (microarray)</th>\n",
       "      <th>Level expression</th>\n",
       "      <th>Level categoric</th>\n",
       "      <th>Pam50_Claudin-low subtype</th>\n",
       "      <th>Unnamed: 24</th>\n",
       "      <th>3-Gene classifier subtype</th>\n",
       "      <th>BRCA classifier subtype</th>\n",
       "      <th>Unnamed: 27</th>\n",
       "    </tr>\n",
       "  </thead>\n",
       "  <tbody>\n",
       "    <tr>\n",
       "      <th>0</th>\n",
       "      <td>21,93</td>\n",
       "      <td>1</td>\n",
       "      <td>Breast Invasive Ductal Carcinoma</td>\n",
       "      <td>1</td>\n",
       "      <td>YES</td>\n",
       "      <td>1</td>\n",
       "      <td>Negative</td>\n",
       "      <td>NaN</td>\n",
       "      <td>Negative</td>\n",
       "      <td>2</td>\n",
       "      <td>...</td>\n",
       "      <td>3.0</td>\n",
       "      <td>3</td>\n",
       "      <td>6,973637</td>\n",
       "      <td>High</td>\n",
       "      <td>1</td>\n",
       "      <td>Excluded samples</td>\n",
       "      <td>5</td>\n",
       "      <td>ER-/HER2-</td>\n",
       "      <td>TNBC</td>\n",
       "      <td>4</td>\n",
       "    </tr>\n",
       "    <tr>\n",
       "      <th>1</th>\n",
       "      <td>26,36</td>\n",
       "      <td>1</td>\n",
       "      <td>Breast Invasive Ductal Carcinoma</td>\n",
       "      <td>1</td>\n",
       "      <td>NO</td>\n",
       "      <td>2</td>\n",
       "      <td>Negative</td>\n",
       "      <td>NaN</td>\n",
       "      <td>Negative</td>\n",
       "      <td>2</td>\n",
       "      <td>...</td>\n",
       "      <td>2.0</td>\n",
       "      <td>2</td>\n",
       "      <td>6,705706</td>\n",
       "      <td>High</td>\n",
       "      <td>1</td>\n",
       "      <td>Basal</td>\n",
       "      <td>4</td>\n",
       "      <td>ER-/HER2-</td>\n",
       "      <td>TNBC</td>\n",
       "      <td>4</td>\n",
       "    </tr>\n",
       "    <tr>\n",
       "      <th>2</th>\n",
       "      <td>28,62</td>\n",
       "      <td>1</td>\n",
       "      <td>Breast Invasive Ductal Carcinoma</td>\n",
       "      <td>1</td>\n",
       "      <td>NO</td>\n",
       "      <td>2</td>\n",
       "      <td>Negative</td>\n",
       "      <td>NaN</td>\n",
       "      <td>Negative</td>\n",
       "      <td>2</td>\n",
       "      <td>...</td>\n",
       "      <td>2.0</td>\n",
       "      <td>2</td>\n",
       "      <td>6,530297</td>\n",
       "      <td>High</td>\n",
       "      <td>1</td>\n",
       "      <td>Basal</td>\n",
       "      <td>4</td>\n",
       "      <td>ER-/HER2-</td>\n",
       "      <td>TNBC</td>\n",
       "      <td>4</td>\n",
       "    </tr>\n",
       "    <tr>\n",
       "      <th>3</th>\n",
       "      <td>28,96</td>\n",
       "      <td>1</td>\n",
       "      <td>Breast Invasive Ductal Carcinoma</td>\n",
       "      <td>1</td>\n",
       "      <td>NO</td>\n",
       "      <td>2</td>\n",
       "      <td>Negative</td>\n",
       "      <td>NaN</td>\n",
       "      <td>Negative</td>\n",
       "      <td>2</td>\n",
       "      <td>...</td>\n",
       "      <td>NaN</td>\n",
       "      <td>5</td>\n",
       "      <td>6,516583</td>\n",
       "      <td>High</td>\n",
       "      <td>1</td>\n",
       "      <td>Basal</td>\n",
       "      <td>4</td>\n",
       "      <td>ER-/HER2-</td>\n",
       "      <td>TNBC</td>\n",
       "      <td>4</td>\n",
       "    </tr>\n",
       "    <tr>\n",
       "      <th>4</th>\n",
       "      <td>29,92</td>\n",
       "      <td>1</td>\n",
       "      <td>Breast Invasive Ductal Carcinoma</td>\n",
       "      <td>1</td>\n",
       "      <td>NO</td>\n",
       "      <td>2</td>\n",
       "      <td>Negative</td>\n",
       "      <td>NaN</td>\n",
       "      <td>Negative</td>\n",
       "      <td>2</td>\n",
       "      <td>...</td>\n",
       "      <td>1.0</td>\n",
       "      <td>1</td>\n",
       "      <td>6,515348</td>\n",
       "      <td>High</td>\n",
       "      <td>1</td>\n",
       "      <td>Basal</td>\n",
       "      <td>4</td>\n",
       "      <td>ER-/HER2-</td>\n",
       "      <td>TNBC</td>\n",
       "      <td>4</td>\n",
       "    </tr>\n",
       "    <tr>\n",
       "      <th>...</th>\n",
       "      <td>...</td>\n",
       "      <td>...</td>\n",
       "      <td>...</td>\n",
       "      <td>...</td>\n",
       "      <td>...</td>\n",
       "      <td>...</td>\n",
       "      <td>...</td>\n",
       "      <td>...</td>\n",
       "      <td>...</td>\n",
       "      <td>...</td>\n",
       "      <td>...</td>\n",
       "      <td>...</td>\n",
       "      <td>...</td>\n",
       "      <td>...</td>\n",
       "      <td>...</td>\n",
       "      <td>...</td>\n",
       "      <td>...</td>\n",
       "      <td>...</td>\n",
       "      <td>...</td>\n",
       "      <td>...</td>\n",
       "      <td>...</td>\n",
       "    </tr>\n",
       "    <tr>\n",
       "      <th>1695</th>\n",
       "      <td>86,24</td>\n",
       "      <td>2</td>\n",
       "      <td>Breast Invasive Ductal Carcinoma</td>\n",
       "      <td>1</td>\n",
       "      <td>YES</td>\n",
       "      <td>1</td>\n",
       "      <td>Positve</td>\n",
       "      <td>NaN</td>\n",
       "      <td>Positive</td>\n",
       "      <td>1</td>\n",
       "      <td>...</td>\n",
       "      <td>2.0</td>\n",
       "      <td>2</td>\n",
       "      <td>4,99293</td>\n",
       "      <td>Low</td>\n",
       "      <td>2</td>\n",
       "      <td>LumB</td>\n",
       "      <td>2</td>\n",
       "      <td>HER2+</td>\n",
       "      <td>HER2</td>\n",
       "      <td>3</td>\n",
       "    </tr>\n",
       "    <tr>\n",
       "      <th>1696</th>\n",
       "      <td>87,32</td>\n",
       "      <td>2</td>\n",
       "      <td>Breast Invasive Ductal Carcinoma</td>\n",
       "      <td>1</td>\n",
       "      <td>YES</td>\n",
       "      <td>1</td>\n",
       "      <td>Positve</td>\n",
       "      <td>NaN</td>\n",
       "      <td>Positive</td>\n",
       "      <td>1</td>\n",
       "      <td>...</td>\n",
       "      <td>3.0</td>\n",
       "      <td>3</td>\n",
       "      <td>4,968883</td>\n",
       "      <td>Low</td>\n",
       "      <td>2</td>\n",
       "      <td>LumB</td>\n",
       "      <td>2</td>\n",
       "      <td>HER2+</td>\n",
       "      <td>HER2</td>\n",
       "      <td>3</td>\n",
       "    </tr>\n",
       "    <tr>\n",
       "      <th>1697</th>\n",
       "      <td>88,8</td>\n",
       "      <td>2</td>\n",
       "      <td>Breast Invasive Ductal Carcinoma</td>\n",
       "      <td>1</td>\n",
       "      <td>YES</td>\n",
       "      <td>1</td>\n",
       "      <td>Positve</td>\n",
       "      <td>NaN</td>\n",
       "      <td>Positive</td>\n",
       "      <td>1</td>\n",
       "      <td>...</td>\n",
       "      <td>1.0</td>\n",
       "      <td>1</td>\n",
       "      <td>4,961279</td>\n",
       "      <td>Low</td>\n",
       "      <td>2</td>\n",
       "      <td>Excluded samples</td>\n",
       "      <td>5</td>\n",
       "      <td>HER2+</td>\n",
       "      <td>HER2</td>\n",
       "      <td>3</td>\n",
       "    </tr>\n",
       "    <tr>\n",
       "      <th>1698</th>\n",
       "      <td>90,23</td>\n",
       "      <td>2</td>\n",
       "      <td>Breast Invasive Ductal Carcinoma</td>\n",
       "      <td>1</td>\n",
       "      <td>YES</td>\n",
       "      <td>1</td>\n",
       "      <td>Positve</td>\n",
       "      <td>NaN</td>\n",
       "      <td>Negative</td>\n",
       "      <td>2</td>\n",
       "      <td>...</td>\n",
       "      <td>1.0</td>\n",
       "      <td>1</td>\n",
       "      <td>4,922177</td>\n",
       "      <td>Low</td>\n",
       "      <td>2</td>\n",
       "      <td>Excluded samples</td>\n",
       "      <td>5</td>\n",
       "      <td>HER2+</td>\n",
       "      <td>HER2</td>\n",
       "      <td>3</td>\n",
       "    </tr>\n",
       "    <tr>\n",
       "      <th>1699</th>\n",
       "      <td>96,29</td>\n",
       "      <td>2</td>\n",
       "      <td>Mixed Histology</td>\n",
       "      <td>3</td>\n",
       "      <td>YES</td>\n",
       "      <td>1</td>\n",
       "      <td>Positve</td>\n",
       "      <td>NaN</td>\n",
       "      <td>Positive</td>\n",
       "      <td>1</td>\n",
       "      <td>...</td>\n",
       "      <td>2.0</td>\n",
       "      <td>2</td>\n",
       "      <td>4,915144</td>\n",
       "      <td>Low</td>\n",
       "      <td>2</td>\n",
       "      <td>LumA</td>\n",
       "      <td>1</td>\n",
       "      <td>HER2+</td>\n",
       "      <td>HER2</td>\n",
       "      <td>3</td>\n",
       "    </tr>\n",
       "  </tbody>\n",
       "</table>\n",
       "<p>1700 rows × 28 columns</p>\n",
       "</div>"
      ],
      "text/plain": [
       "     Age at Diagnosis  Categ              Cancer Type Detailed  Categ.1  \\\n",
       "0               21,93      1  Breast Invasive Ductal Carcinoma        1   \n",
       "1               26,36      1  Breast Invasive Ductal Carcinoma        1   \n",
       "2               28,62      1  Breast Invasive Ductal Carcinoma        1   \n",
       "3               28,96      1  Breast Invasive Ductal Carcinoma        1   \n",
       "4               29,92      1  Breast Invasive Ductal Carcinoma        1   \n",
       "...               ...    ...                               ...      ...   \n",
       "1695            86,24      2  Breast Invasive Ductal Carcinoma        1   \n",
       "1696            87,32      2  Breast Invasive Ductal Carcinoma        1   \n",
       "1697             88,8      2  Breast Invasive Ductal Carcinoma        1   \n",
       "1698            90,23      2  Breast Invasive Ductal Carcinoma        1   \n",
       "1699            96,29      2                   Mixed Histology        3   \n",
       "\n",
       "     Chemotherapy  Categ.2 ER status measured by IHC  Unnamed: 7 ER Status  \\\n",
       "0             YES        1                  Negative         NaN  Negative   \n",
       "1              NO        2                  Negative         NaN  Negative   \n",
       "2              NO        2                  Negative         NaN  Negative   \n",
       "3              NO        2                  Negative         NaN  Negative   \n",
       "4              NO        2                  Negative         NaN  Negative   \n",
       "...           ...      ...                       ...         ...       ...   \n",
       "1695          YES        1                   Positve         NaN  Positive   \n",
       "1696          YES        1                   Positve         NaN  Positive   \n",
       "1697          YES        1                   Positve         NaN  Positive   \n",
       "1698          YES        1                   Positve         NaN  Negative   \n",
       "1699          YES        1                   Positve         NaN  Positive   \n",
       "\n",
       "      Categ.3  ... Tumor Stage  Categ.8  \\\n",
       "0           2  ...         3.0        3   \n",
       "1           2  ...         2.0        2   \n",
       "2           2  ...         2.0        2   \n",
       "3           2  ...         NaN        5   \n",
       "4           2  ...         1.0        1   \n",
       "...       ...  ...         ...      ...   \n",
       "1695        1  ...         2.0        2   \n",
       "1696        1  ...         3.0        3   \n",
       "1697        1  ...         1.0        1   \n",
       "1698        2  ...         1.0        1   \n",
       "1699        1  ...         2.0        2   \n",
       "\n",
       "     SOX9-AS1: mRNA expression (microarray)  Level expression  \\\n",
       "0                                  6,973637              High   \n",
       "1                                  6,705706              High   \n",
       "2                                  6,530297              High   \n",
       "3                                  6,516583              High   \n",
       "4                                  6,515348              High   \n",
       "...                                     ...               ...   \n",
       "1695                                4,99293               Low   \n",
       "1696                               4,968883               Low   \n",
       "1697                               4,961279               Low   \n",
       "1698                               4,922177               Low   \n",
       "1699                               4,915144               Low   \n",
       "\n",
       "      Level categoric  Pam50_Claudin-low subtype Unnamed: 24  \\\n",
       "0                   1           Excluded samples           5   \n",
       "1                   1                      Basal           4   \n",
       "2                   1                      Basal           4   \n",
       "3                   1                      Basal           4   \n",
       "4                   1                      Basal           4   \n",
       "...               ...                        ...         ...   \n",
       "1695                2                       LumB           2   \n",
       "1696                2                       LumB           2   \n",
       "1697                2           Excluded samples           5   \n",
       "1698                2           Excluded samples           5   \n",
       "1699                2                       LumA           1   \n",
       "\n",
       "      3-Gene classifier subtype  BRCA classifier subtype  Unnamed: 27  \n",
       "0                     ER-/HER2-                     TNBC            4  \n",
       "1                     ER-/HER2-                     TNBC            4  \n",
       "2                     ER-/HER2-                     TNBC            4  \n",
       "3                     ER-/HER2-                     TNBC            4  \n",
       "4                     ER-/HER2-                     TNBC            4  \n",
       "...                         ...                      ...          ...  \n",
       "1695                      HER2+                     HER2            3  \n",
       "1696                      HER2+                     HER2            3  \n",
       "1697                      HER2+                     HER2            3  \n",
       "1698                      HER2+                     HER2            3  \n",
       "1699                      HER2+                     HER2            3  \n",
       "\n",
       "[1700 rows x 28 columns]"
      ]
     },
     "execution_count": 160,
     "metadata": {},
     "output_type": "execute_result"
    }
   ],
   "source": [
    "metabric"
   ]
  },
  {
   "cell_type": "code",
   "execution_count": 170,
   "id": "8414574f",
   "metadata": {},
   "outputs": [
    {
     "data": {
      "text/plain": [
       "Age at Diagnosis                           object\n",
       "Categ                                       int64\n",
       "Cancer Type Detailed                       object\n",
       "Categ.1                                     int64\n",
       "Chemotherapy                               object\n",
       "Categ.2                                     int64\n",
       "ER status measured by IHC                  object\n",
       "Unnamed: 7                                float64\n",
       "ER Status                                  object\n",
       "Categ.3                                     int64\n",
       "PR Status                                  object\n",
       "Categ.4                                     int64\n",
       "HER2 Status                                object\n",
       "Categ.5                                     int64\n",
       "Neoplasm Histologic Grade                 float64\n",
       "Categ.6                                     int64\n",
       "Radio Therapy                              object\n",
       "Categ.7                                     int64\n",
       "Tumor Stage                               float64\n",
       "Categ.8                                     int64\n",
       "SOX9-AS1: mRNA expression (microarray)     object\n",
       "Level expression                           object\n",
       "Level categoric                             int64\n",
       "Pam50_Claudin-low subtype                  object\n",
       "Unnamed: 24                                 int64\n",
       "3-Gene classifier subtype                  object\n",
       "BRCA classifier subtype                    object\n",
       "Unnamed: 27                                 int64\n",
       "dtype: object"
      ]
     },
     "execution_count": 170,
     "metadata": {},
     "output_type": "execute_result"
    }
   ],
   "source": [
    "metabric.dtypes\n"
   ]
  },
  {
   "cell_type": "code",
   "execution_count": 72,
   "id": "4526f698",
   "metadata": {},
   "outputs": [
    {
     "data": {
      "text/plain": [
       "0"
      ]
     },
     "execution_count": 72,
     "metadata": {},
     "output_type": "execute_result"
    }
   ],
   "source": [
    "metabric['Pam50_Claudin-low subtype'].isnull().sum()"
   ]
  },
  {
   "cell_type": "code",
   "execution_count": 73,
   "id": "1f1f7df1",
   "metadata": {},
   "outputs": [
    {
     "data": {
      "text/plain": [
       "0"
      ]
     },
     "execution_count": 73,
     "metadata": {},
     "output_type": "execute_result"
    }
   ],
   "source": [
    "metabric['BRCA classifier subtype'].isnull().sum()"
   ]
  },
  {
   "cell_type": "code",
   "execution_count": 74,
   "id": "738d379f",
   "metadata": {},
   "outputs": [
    {
     "data": {
      "text/plain": [
       "0"
      ]
     },
     "execution_count": 74,
     "metadata": {},
     "output_type": "execute_result"
    }
   ],
   "source": [
    "metabric['Cancer Type Detailed'].isnull().sum()"
   ]
  },
  {
   "cell_type": "code",
   "execution_count": 75,
   "id": "a66363ee",
   "metadata": {},
   "outputs": [
    {
     "data": {
      "text/plain": [
       "63"
      ]
     },
     "execution_count": 75,
     "metadata": {},
     "output_type": "execute_result"
    }
   ],
   "source": [
    "metabric['Neoplasm Histologic Grade'].isnull().sum()"
   ]
  },
  {
   "cell_type": "code",
   "execution_count": 77,
   "id": "5809e62d",
   "metadata": {},
   "outputs": [
    {
     "data": {
      "text/plain": [
       "457"
      ]
     },
     "execution_count": 77,
     "metadata": {},
     "output_type": "execute_result"
    }
   ],
   "source": [
    "metabric['Tumor Stage'].isnull().sum()"
   ]
  },
  {
   "cell_type": "code",
   "execution_count": 76,
   "id": "cf82c0d9",
   "metadata": {},
   "outputs": [
    {
     "data": {
      "text/html": [
       "<div>\n",
       "<style scoped>\n",
       "    .dataframe tbody tr th:only-of-type {\n",
       "        vertical-align: middle;\n",
       "    }\n",
       "\n",
       "    .dataframe tbody tr th {\n",
       "        vertical-align: top;\n",
       "    }\n",
       "\n",
       "    .dataframe thead th {\n",
       "        text-align: right;\n",
       "    }\n",
       "</style>\n",
       "<table border=\"1\" class=\"dataframe\">\n",
       "  <thead>\n",
       "    <tr style=\"text-align: right;\">\n",
       "      <th>Level expression</th>\n",
       "      <th>High</th>\n",
       "      <th>Low</th>\n",
       "    </tr>\n",
       "    <tr>\n",
       "      <th>Neoplasm Histologic Grade</th>\n",
       "      <th></th>\n",
       "      <th></th>\n",
       "    </tr>\n",
       "  </thead>\n",
       "  <tbody>\n",
       "    <tr>\n",
       "      <th>1.0</th>\n",
       "      <td>71</td>\n",
       "      <td>78</td>\n",
       "    </tr>\n",
       "    <tr>\n",
       "      <th>2.0</th>\n",
       "      <td>309</td>\n",
       "      <td>361</td>\n",
       "    </tr>\n",
       "    <tr>\n",
       "      <th>3.0</th>\n",
       "      <td>434</td>\n",
       "      <td>384</td>\n",
       "    </tr>\n",
       "    <tr>\n",
       "      <th>missing</th>\n",
       "      <td>36</td>\n",
       "      <td>27</td>\n",
       "    </tr>\n",
       "  </tbody>\n",
       "</table>\n",
       "</div>"
      ],
      "text/plain": [
       "Level expression           High  Low\n",
       "Neoplasm Histologic Grade           \n",
       "1.0                          71   78\n",
       "2.0                         309  361\n",
       "3.0                         434  384\n",
       "missing                      36   27"
      ]
     },
     "execution_count": 76,
     "metadata": {},
     "output_type": "execute_result"
    }
   ],
   "source": [
    "#With NaNs\n",
    "pd.crosstab(metabric['Neoplasm Histologic Grade'].fillna('missing'),metabric['Level expression'])\n"
   ]
  },
  {
   "cell_type": "code",
   "execution_count": 78,
   "id": "f65c004b",
   "metadata": {},
   "outputs": [
    {
     "data": {
      "text/html": [
       "<div>\n",
       "<style scoped>\n",
       "    .dataframe tbody tr th:only-of-type {\n",
       "        vertical-align: middle;\n",
       "    }\n",
       "\n",
       "    .dataframe tbody tr th {\n",
       "        vertical-align: top;\n",
       "    }\n",
       "\n",
       "    .dataframe thead th {\n",
       "        text-align: right;\n",
       "    }\n",
       "</style>\n",
       "<table border=\"1\" class=\"dataframe\">\n",
       "  <thead>\n",
       "    <tr style=\"text-align: right;\">\n",
       "      <th>Level expression</th>\n",
       "      <th>High</th>\n",
       "      <th>Low</th>\n",
       "    </tr>\n",
       "    <tr>\n",
       "      <th>Tumor Stage</th>\n",
       "      <th></th>\n",
       "      <th></th>\n",
       "    </tr>\n",
       "  </thead>\n",
       "  <tbody>\n",
       "    <tr>\n",
       "      <th>1.0</th>\n",
       "      <td>217</td>\n",
       "      <td>213</td>\n",
       "    </tr>\n",
       "    <tr>\n",
       "      <th>2.0</th>\n",
       "      <td>347</td>\n",
       "      <td>355</td>\n",
       "    </tr>\n",
       "    <tr>\n",
       "      <th>3.0</th>\n",
       "      <td>48</td>\n",
       "      <td>55</td>\n",
       "    </tr>\n",
       "    <tr>\n",
       "      <th>4.0</th>\n",
       "      <td>1</td>\n",
       "      <td>7</td>\n",
       "    </tr>\n",
       "    <tr>\n",
       "      <th>missing</th>\n",
       "      <td>237</td>\n",
       "      <td>220</td>\n",
       "    </tr>\n",
       "  </tbody>\n",
       "</table>\n",
       "</div>"
      ],
      "text/plain": [
       "Level expression  High  Low\n",
       "Tumor Stage                \n",
       "1.0                217  213\n",
       "2.0                347  355\n",
       "3.0                 48   55\n",
       "4.0                  1    7\n",
       "missing            237  220"
      ]
     },
     "execution_count": 78,
     "metadata": {},
     "output_type": "execute_result"
    }
   ],
   "source": [
    "#With NaNs\n",
    "pd.crosstab(metabric['Tumor Stage'].fillna('missing'),metabric['Level expression'])"
   ]
  },
  {
   "cell_type": "code",
   "execution_count": 177,
   "id": "90b88f92",
   "metadata": {},
   "outputs": [
    {
     "data": {
      "text/html": [
       "<div>\n",
       "<style scoped>\n",
       "    .dataframe tbody tr th:only-of-type {\n",
       "        vertical-align: middle;\n",
       "    }\n",
       "\n",
       "    .dataframe tbody tr th {\n",
       "        vertical-align: top;\n",
       "    }\n",
       "\n",
       "    .dataframe thead th {\n",
       "        text-align: right;\n",
       "    }\n",
       "</style>\n",
       "<table border=\"1\" class=\"dataframe\">\n",
       "  <thead>\n",
       "    <tr style=\"text-align: right;\">\n",
       "      <th>Level expression</th>\n",
       "      <th>High</th>\n",
       "      <th>Low</th>\n",
       "    </tr>\n",
       "    <tr>\n",
       "      <th>Tumor Stage</th>\n",
       "      <th></th>\n",
       "      <th></th>\n",
       "    </tr>\n",
       "  </thead>\n",
       "  <tbody>\n",
       "    <tr>\n",
       "      <th>1.0</th>\n",
       "      <td>217</td>\n",
       "      <td>213</td>\n",
       "    </tr>\n",
       "    <tr>\n",
       "      <th>2.0</th>\n",
       "      <td>347</td>\n",
       "      <td>355</td>\n",
       "    </tr>\n",
       "    <tr>\n",
       "      <th>3.0</th>\n",
       "      <td>48</td>\n",
       "      <td>55</td>\n",
       "    </tr>\n",
       "    <tr>\n",
       "      <th>4.0</th>\n",
       "      <td>1</td>\n",
       "      <td>7</td>\n",
       "    </tr>\n",
       "  </tbody>\n",
       "</table>\n",
       "</div>"
      ],
      "text/plain": [
       "Level expression  High  Low\n",
       "Tumor Stage                \n",
       "1.0                217  213\n",
       "2.0                347  355\n",
       "3.0                 48   55\n",
       "4.0                  1    7"
      ]
     },
     "execution_count": 177,
     "metadata": {},
     "output_type": "execute_result"
    }
   ],
   "source": [
    "ctm0= pd.crosstab(metabric['Tumor Stage'],metabric['Level expression'])\n",
    "ctm0"
   ]
  },
  {
   "cell_type": "code",
   "execution_count": 178,
   "id": "7ccd0aa9",
   "metadata": {},
   "outputs": [
    {
     "data": {
      "text/html": [
       "<div>\n",
       "<style scoped>\n",
       "    .dataframe tbody tr th:only-of-type {\n",
       "        vertical-align: middle;\n",
       "    }\n",
       "\n",
       "    .dataframe tbody tr th {\n",
       "        vertical-align: top;\n",
       "    }\n",
       "\n",
       "    .dataframe thead th {\n",
       "        text-align: right;\n",
       "    }\n",
       "</style>\n",
       "<table border=\"1\" class=\"dataframe\">\n",
       "  <thead>\n",
       "    <tr style=\"text-align: right;\">\n",
       "      <th>Level expression</th>\n",
       "      <th>High</th>\n",
       "      <th>Low</th>\n",
       "    </tr>\n",
       "    <tr>\n",
       "      <th>Neoplasm Histologic Grade</th>\n",
       "      <th></th>\n",
       "      <th></th>\n",
       "    </tr>\n",
       "  </thead>\n",
       "  <tbody>\n",
       "    <tr>\n",
       "      <th>1.0</th>\n",
       "      <td>71</td>\n",
       "      <td>78</td>\n",
       "    </tr>\n",
       "    <tr>\n",
       "      <th>2.0</th>\n",
       "      <td>309</td>\n",
       "      <td>361</td>\n",
       "    </tr>\n",
       "    <tr>\n",
       "      <th>3.0</th>\n",
       "      <td>434</td>\n",
       "      <td>384</td>\n",
       "    </tr>\n",
       "  </tbody>\n",
       "</table>\n",
       "</div>"
      ],
      "text/plain": [
       "Level expression           High  Low\n",
       "Neoplasm Histologic Grade           \n",
       "1.0                          71   78\n",
       "2.0                         309  361\n",
       "3.0                         434  384"
      ]
     },
     "execution_count": 178,
     "metadata": {},
     "output_type": "execute_result"
    }
   ],
   "source": [
    "ctm1=pd.crosstab(metabric['Neoplasm Histologic Grade'],metabric['Level expression'])\n",
    "ctm1"
   ]
  },
  {
   "cell_type": "code",
   "execution_count": 179,
   "id": "b171f54b",
   "metadata": {},
   "outputs": [
    {
     "data": {
      "text/html": [
       "<div>\n",
       "<style scoped>\n",
       "    .dataframe tbody tr th:only-of-type {\n",
       "        vertical-align: middle;\n",
       "    }\n",
       "\n",
       "    .dataframe tbody tr th {\n",
       "        vertical-align: top;\n",
       "    }\n",
       "\n",
       "    .dataframe thead th {\n",
       "        text-align: right;\n",
       "    }\n",
       "</style>\n",
       "<table border=\"1\" class=\"dataframe\">\n",
       "  <thead>\n",
       "    <tr style=\"text-align: right;\">\n",
       "      <th>Level expression</th>\n",
       "      <th>High</th>\n",
       "      <th>Low</th>\n",
       "    </tr>\n",
       "    <tr>\n",
       "      <th>BRCA classifier subtype</th>\n",
       "      <th></th>\n",
       "      <th></th>\n",
       "    </tr>\n",
       "  </thead>\n",
       "  <tbody>\n",
       "    <tr>\n",
       "      <th>HER2</th>\n",
       "      <td>129</td>\n",
       "      <td>59</td>\n",
       "    </tr>\n",
       "    <tr>\n",
       "      <th>Luminal A</th>\n",
       "      <td>212</td>\n",
       "      <td>407</td>\n",
       "    </tr>\n",
       "    <tr>\n",
       "      <th>Luminal B</th>\n",
       "      <td>230</td>\n",
       "      <td>373</td>\n",
       "    </tr>\n",
       "    <tr>\n",
       "      <th>TNBC</th>\n",
       "      <td>279</td>\n",
       "      <td>11</td>\n",
       "    </tr>\n",
       "  </tbody>\n",
       "</table>\n",
       "</div>"
      ],
      "text/plain": [
       "Level expression         High  Low\n",
       "BRCA classifier subtype           \n",
       "HER2                      129   59\n",
       "Luminal A                 212  407\n",
       "Luminal B                 230  373\n",
       "TNBC                      279   11"
      ]
     },
     "execution_count": 179,
     "metadata": {},
     "output_type": "execute_result"
    }
   ],
   "source": [
    "ctm2=pd.crosstab(metabric['BRCA classifier subtype'],metabric['Level expression'])\n",
    "ctm2"
   ]
  },
  {
   "cell_type": "code",
   "execution_count": 181,
   "id": "2e1565e7",
   "metadata": {},
   "outputs": [
    {
     "data": {
      "text/html": [
       "<div>\n",
       "<style scoped>\n",
       "    .dataframe tbody tr th:only-of-type {\n",
       "        vertical-align: middle;\n",
       "    }\n",
       "\n",
       "    .dataframe tbody tr th {\n",
       "        vertical-align: top;\n",
       "    }\n",
       "\n",
       "    .dataframe thead th {\n",
       "        text-align: right;\n",
       "    }\n",
       "</style>\n",
       "<table border=\"1\" class=\"dataframe\">\n",
       "  <thead>\n",
       "    <tr style=\"text-align: right;\">\n",
       "      <th>Level expression</th>\n",
       "      <th>High</th>\n",
       "      <th>Low</th>\n",
       "    </tr>\n",
       "    <tr>\n",
       "      <th>Cancer Type Detailed</th>\n",
       "      <th></th>\n",
       "      <th></th>\n",
       "    </tr>\n",
       "  </thead>\n",
       "  <tbody>\n",
       "    <tr>\n",
       "      <th>Breast Invasive Ductal Carcinoma</th>\n",
       "      <td>627</td>\n",
       "      <td>700</td>\n",
       "    </tr>\n",
       "    <tr>\n",
       "      <th>Breast Invasive Lobular Carcinoma</th>\n",
       "      <td>79</td>\n",
       "      <td>51</td>\n",
       "    </tr>\n",
       "    <tr>\n",
       "      <th>Mixed Histology</th>\n",
       "      <td>126</td>\n",
       "      <td>88</td>\n",
       "    </tr>\n",
       "    <tr>\n",
       "      <th>Other</th>\n",
       "      <td>18</td>\n",
       "      <td>11</td>\n",
       "    </tr>\n",
       "  </tbody>\n",
       "</table>\n",
       "</div>"
      ],
      "text/plain": [
       "Level expression                   High  Low\n",
       "Cancer Type Detailed                        \n",
       "Breast Invasive Ductal Carcinoma    627  700\n",
       "Breast Invasive Lobular Carcinoma    79   51\n",
       "Mixed Histology                     126   88\n",
       "Other                                18   11"
      ]
     },
     "execution_count": 181,
     "metadata": {},
     "output_type": "execute_result"
    }
   ],
   "source": [
    "ctm4=pd.crosstab(metabric['Cancer Type Detailed'],metabric['Level expression'])\n",
    "ctm4"
   ]
  },
  {
   "cell_type": "code",
   "execution_count": 182,
   "id": "9f1fcba6",
   "metadata": {},
   "outputs": [
    {
     "name": "stdout",
     "output_type": "stream",
     "text": [
      "Chi2 result of the contingency table: 4.872514937025567, p-value: 0.18137380929310915\n",
      "Significance results:\n",
      "(1.0, 2.0): p_value: 0.781962; corrected: 1.000000 (ns) reject: False\n",
      "(1.0, 3.0): p_value: 0.552099; corrected: 1.000000 (ns) reject: False\n",
      "(1.0, 4.0): p_value: 0.076541; corrected: 0.459245 (ns) reject: False\n",
      "(2.0, 3.0): p_value: 0.666722; corrected: 1.000000 (ns) reject: False\n",
      "(2.0, 4.0): p_value: 0.085059; corrected: 0.510355 (ns) reject: False\n",
      "(3.0, 4.0): p_value: 0.133204; corrected: 0.799223 (ns) reject: False\n"
     ]
    }
   ],
   "source": [
    "#Tumor stage vs SOX9-AS1 expression\n",
    "chisq_and_posthoc_corrected(ctm0)"
   ]
  },
  {
   "cell_type": "code",
   "execution_count": 183,
   "id": "668ab74a",
   "metadata": {},
   "outputs": [
    {
     "name": "stdout",
     "output_type": "stream",
     "text": [
      "Chi2 result of the contingency table: 7.371656736546984, p-value: 0.025076393628507086\n",
      "Significance results:\n",
      "(1.0, 2.0): p_value: 0.803931; corrected: 1.000000 (ns) reject: False\n",
      "(1.0, 3.0): p_value: 0.260288; corrected: 0.780864 (ns) reject: False\n",
      "(2.0, 3.0): p_value: 0.009041; corrected: 0.027124 (**) reject: True\n"
     ]
    }
   ],
   "source": [
    "#Tumor histological grade vs SOX9-AS1 expression\n",
    "chisq_and_posthoc_corrected(ctm1)"
   ]
  },
  {
   "cell_type": "code",
   "execution_count": 184,
   "id": "9a6b80ab",
   "metadata": {},
   "outputs": [
    {
     "name": "stdout",
     "output_type": "stream",
     "text": [
      "Chi2 result of the contingency table: 369.0746268039517, p-value: 1.1044147718111227e-79\n",
      "Significance results:\n",
      "('HER2', 'Luminal A'): p_value: 0.000000; corrected: 0.000000 (****) reject: True\n",
      "('HER2', 'Luminal B'): p_value: 0.000000; corrected: 0.000000 (****) reject: True\n",
      "('HER2', 'TNBC'): p_value: 0.000000; corrected: 0.000000 (****) reject: True\n",
      "('Luminal A', 'Luminal B'): p_value: 0.174855; corrected: 1.000000 (ns) reject: False\n",
      "('Luminal A', 'TNBC'): p_value: 0.000000; corrected: 0.000000 (****) reject: True\n",
      "('Luminal B', 'TNBC'): p_value: 0.000000; corrected: 0.000000 (****) reject: True\n"
     ]
    }
   ],
   "source": [
    "#BRCA classifier subtype vs SOX9-AS1 expression\n",
    "chisq_and_posthoc_corrected(ctm2)"
   ]
  },
  {
   "cell_type": "code",
   "execution_count": 186,
   "id": "b7f27822",
   "metadata": {},
   "outputs": [
    {
     "name": "stdout",
     "output_type": "stream",
     "text": [
      "Chi2 result of the contingency table: 18.48391312414028, p-value: 0.0003494925596352881\n",
      "Significance results:\n",
      "('Breast Invasive Ductal Carcinoma', 'Breast Invasive Lobular Carcinoma'): p_value: 0.004349; corrected: 0.026092 (**) reject: True\n",
      "('Breast Invasive Ductal Carcinoma', 'Mixed Histology'): p_value: 0.002039; corrected: 0.012236 (**) reject: True\n",
      "('Breast Invasive Ductal Carcinoma', 'Other'): p_value: 0.163653; corrected: 0.981919 (ns) reject: False\n",
      "('Breast Invasive Lobular Carcinoma', 'Mixed Histology'): p_value: 0.815610; corrected: 1.000000 (ns) reject: False\n",
      "('Breast Invasive Lobular Carcinoma', 'Other'): p_value: 1.000000; corrected: 1.000000 (ns) reject: False\n",
      "('Mixed Histology', 'Other'): p_value: 0.899112; corrected: 1.000000 (ns) reject: False\n"
     ]
    }
   ],
   "source": [
    "#Hystology vs SOX9-AS1 expression\n",
    "chisq_and_posthoc_corrected(ctm4)"
   ]
  },
  {
   "cell_type": "code",
   "execution_count": 191,
   "id": "ad03ef15",
   "metadata": {},
   "outputs": [],
   "source": [
    "metabric2= metabric[metabric['Pam50_Claudin-low subtype']!= 'Excluded samples']"
   ]
  },
  {
   "cell_type": "code",
   "execution_count": 192,
   "id": "08291656",
   "metadata": {},
   "outputs": [
    {
     "data": {
      "text/plain": [
       "LumA     631\n",
       "LumB     412\n",
       "Her2     190\n",
       "Basal    161\n",
       "Name: Pam50_Claudin-low subtype, dtype: int64"
      ]
     },
     "execution_count": 192,
     "metadata": {},
     "output_type": "execute_result"
    }
   ],
   "source": [
    "metabric2['Pam50_Claudin-low subtype'].value_counts()"
   ]
  },
  {
   "cell_type": "code",
   "execution_count": 193,
   "id": "50892c1f",
   "metadata": {},
   "outputs": [
    {
     "data": {
      "text/html": [
       "<div>\n",
       "<style scoped>\n",
       "    .dataframe tbody tr th:only-of-type {\n",
       "        vertical-align: middle;\n",
       "    }\n",
       "\n",
       "    .dataframe tbody tr th {\n",
       "        vertical-align: top;\n",
       "    }\n",
       "\n",
       "    .dataframe thead th {\n",
       "        text-align: right;\n",
       "    }\n",
       "</style>\n",
       "<table border=\"1\" class=\"dataframe\">\n",
       "  <thead>\n",
       "    <tr style=\"text-align: right;\">\n",
       "      <th>Level expression</th>\n",
       "      <th>High</th>\n",
       "      <th>Low</th>\n",
       "    </tr>\n",
       "    <tr>\n",
       "      <th>Pam50_Claudin-low subtype</th>\n",
       "      <th></th>\n",
       "      <th></th>\n",
       "    </tr>\n",
       "  </thead>\n",
       "  <tbody>\n",
       "    <tr>\n",
       "      <th>Basal</th>\n",
       "      <td>128</td>\n",
       "      <td>33</td>\n",
       "    </tr>\n",
       "    <tr>\n",
       "      <th>Her2</th>\n",
       "      <td>106</td>\n",
       "      <td>84</td>\n",
       "    </tr>\n",
       "    <tr>\n",
       "      <th>LumA</th>\n",
       "      <td>274</td>\n",
       "      <td>357</td>\n",
       "    </tr>\n",
       "    <tr>\n",
       "      <th>LumB</th>\n",
       "      <td>173</td>\n",
       "      <td>239</td>\n",
       "    </tr>\n",
       "  </tbody>\n",
       "</table>\n",
       "</div>"
      ],
      "text/plain": [
       "Level expression           High  Low\n",
       "Pam50_Claudin-low subtype           \n",
       "Basal                       128   33\n",
       "Her2                        106   84\n",
       "LumA                        274  357\n",
       "LumB                        173  239"
      ]
     },
     "execution_count": 193,
     "metadata": {},
     "output_type": "execute_result"
    }
   ],
   "source": [
    "ctm3=pd.crosstab(metabric2['Pam50_Claudin-low subtype'],metabric2['Level expression'])\n",
    "ctm3"
   ]
  },
  {
   "cell_type": "code",
   "execution_count": 194,
   "id": "ef3addd7",
   "metadata": {},
   "outputs": [
    {
     "name": "stdout",
     "output_type": "stream",
     "text": [
      "Chi2 result of the contingency table: 79.40093975075186, p-value: 4.1259860582474054e-17\n",
      "Significance results:\n",
      "('Basal', 'Her2'): p_value: 0.000005; corrected: 0.000028 (****) reject: True\n",
      "('Basal', 'LumA'): p_value: 0.000000; corrected: 0.000000 (****) reject: True\n",
      "('Basal', 'LumB'): p_value: 0.000000; corrected: 0.000000 (****) reject: True\n",
      "('Her2', 'LumA'): p_value: 0.003568; corrected: 0.021406 (**) reject: True\n",
      "('Her2', 'LumB'): p_value: 0.002158; corrected: 0.012947 (**) reject: True\n",
      "('LumA', 'LumB'): p_value: 0.694230; corrected: 1.000000 (ns) reject: False\n"
     ]
    }
   ],
   "source": [
    "#PAM50 Claudin low classifier subtype vs SOX9-AS1 expression\n",
    "chisq_and_posthoc_corrected(ctm3)"
   ]
  },
  {
   "cell_type": "markdown",
   "id": "39d3447e",
   "metadata": {},
   "source": [
    "Results are  shown in tables 2 and 3."
   ]
  },
  {
   "cell_type": "code",
   "execution_count": null,
   "id": "20b1ced2",
   "metadata": {},
   "outputs": [],
   "source": []
  }
 ],
 "metadata": {
  "kernelspec": {
   "display_name": "Python 3 (ipykernel)",
   "language": "python",
   "name": "python3"
  },
  "language_info": {
   "codemirror_mode": {
    "name": "ipython",
    "version": 3
   },
   "file_extension": ".py",
   "mimetype": "text/x-python",
   "name": "python",
   "nbconvert_exporter": "python",
   "pygments_lexer": "ipython3",
   "version": "3.8.11"
  }
 },
 "nbformat": 4,
 "nbformat_minor": 5
}
